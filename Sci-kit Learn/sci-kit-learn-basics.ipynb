{
 "cells": [
  {
   "cell_type": "markdown",
   "id": "8a8e042a",
   "metadata": {
    "papermill": {
     "duration": 0.007064,
     "end_time": "2022-08-04T17:39:50.093363",
     "exception": false,
     "start_time": "2022-08-04T17:39:50.086299",
     "status": "completed"
    },
    "tags": []
   },
   "source": [
    "# Introduction to Sci-Kit Learn (sklearn)"
   ]
  },
  {
   "cell_type": "code",
   "execution_count": 1,
   "id": "4a302aa4",
   "metadata": {
    "_cell_guid": "b1076dfc-b9ad-4769-8c92-a6c4dae69d19",
    "_uuid": "8f2839f25d086af736a60e9eeb907d3b93b6e0e5",
    "execution": {
     "iopub.execute_input": "2022-08-04T17:39:50.108177Z",
     "iopub.status.busy": "2022-08-04T17:39:50.107638Z",
     "iopub.status.idle": "2022-08-04T17:39:51.377729Z",
     "shell.execute_reply": "2022-08-04T17:39:51.376594Z"
    },
    "papermill": {
     "duration": 1.280757,
     "end_time": "2022-08-04T17:39:51.380612",
     "exception": false,
     "start_time": "2022-08-04T17:39:50.099855",
     "status": "completed"
    },
    "tags": []
   },
   "outputs": [],
   "source": [
    "import numpy as np\n",
    "import pandas as pd\n",
    "import matplotlib.pyplot as plt\n",
    "from sklearn import linear_model"
   ]
  },
  {
   "cell_type": "code",
   "execution_count": 2,
   "id": "6554139a",
   "metadata": {
    "execution": {
     "iopub.execute_input": "2022-08-04T17:39:51.398616Z",
     "iopub.status.busy": "2022-08-04T17:39:51.397496Z",
     "iopub.status.idle": "2022-08-04T17:39:51.421133Z",
     "shell.execute_reply": "2022-08-04T17:39:51.419219Z"
    },
    "papermill": {
     "duration": 0.034937,
     "end_time": "2022-08-04T17:39:51.423694",
     "exception": false,
     "start_time": "2022-08-04T17:39:51.388757",
     "status": "completed"
    },
    "tags": []
   },
   "outputs": [],
   "source": [
    "data=pd.read_csv(r'../input/heart-disease/heart-disease.csv')"
   ]
  },
  {
   "cell_type": "code",
   "execution_count": 3,
   "id": "c4a67eda",
   "metadata": {
    "execution": {
     "iopub.execute_input": "2022-08-04T17:39:51.439812Z",
     "iopub.status.busy": "2022-08-04T17:39:51.439470Z",
     "iopub.status.idle": "2022-08-04T17:39:51.471452Z",
     "shell.execute_reply": "2022-08-04T17:39:51.470396Z"
    },
    "papermill": {
     "duration": 0.042281,
     "end_time": "2022-08-04T17:39:51.473554",
     "exception": false,
     "start_time": "2022-08-04T17:39:51.431273",
     "status": "completed"
    },
    "tags": []
   },
   "outputs": [
    {
     "data": {
      "text/html": [
       "<div>\n",
       "<style scoped>\n",
       "    .dataframe tbody tr th:only-of-type {\n",
       "        vertical-align: middle;\n",
       "    }\n",
       "\n",
       "    .dataframe tbody tr th {\n",
       "        vertical-align: top;\n",
       "    }\n",
       "\n",
       "    .dataframe thead th {\n",
       "        text-align: right;\n",
       "    }\n",
       "</style>\n",
       "<table border=\"1\" class=\"dataframe\">\n",
       "  <thead>\n",
       "    <tr style=\"text-align: right;\">\n",
       "      <th></th>\n",
       "      <th>age</th>\n",
       "      <th>sex</th>\n",
       "      <th>cp</th>\n",
       "      <th>trestbps</th>\n",
       "      <th>chol</th>\n",
       "      <th>fbs</th>\n",
       "      <th>restecg</th>\n",
       "      <th>thalach</th>\n",
       "      <th>exang</th>\n",
       "      <th>oldpeak</th>\n",
       "      <th>slope</th>\n",
       "      <th>ca</th>\n",
       "      <th>thal</th>\n",
       "      <th>target</th>\n",
       "    </tr>\n",
       "  </thead>\n",
       "  <tbody>\n",
       "    <tr>\n",
       "      <th>0</th>\n",
       "      <td>63</td>\n",
       "      <td>1</td>\n",
       "      <td>3</td>\n",
       "      <td>145</td>\n",
       "      <td>233</td>\n",
       "      <td>1</td>\n",
       "      <td>0</td>\n",
       "      <td>150</td>\n",
       "      <td>0</td>\n",
       "      <td>2.3</td>\n",
       "      <td>0</td>\n",
       "      <td>0</td>\n",
       "      <td>1</td>\n",
       "      <td>1</td>\n",
       "    </tr>\n",
       "    <tr>\n",
       "      <th>1</th>\n",
       "      <td>37</td>\n",
       "      <td>1</td>\n",
       "      <td>2</td>\n",
       "      <td>130</td>\n",
       "      <td>250</td>\n",
       "      <td>0</td>\n",
       "      <td>1</td>\n",
       "      <td>187</td>\n",
       "      <td>0</td>\n",
       "      <td>3.5</td>\n",
       "      <td>0</td>\n",
       "      <td>0</td>\n",
       "      <td>2</td>\n",
       "      <td>1</td>\n",
       "    </tr>\n",
       "    <tr>\n",
       "      <th>2</th>\n",
       "      <td>41</td>\n",
       "      <td>0</td>\n",
       "      <td>1</td>\n",
       "      <td>130</td>\n",
       "      <td>204</td>\n",
       "      <td>0</td>\n",
       "      <td>0</td>\n",
       "      <td>172</td>\n",
       "      <td>0</td>\n",
       "      <td>1.4</td>\n",
       "      <td>2</td>\n",
       "      <td>0</td>\n",
       "      <td>2</td>\n",
       "      <td>1</td>\n",
       "    </tr>\n",
       "    <tr>\n",
       "      <th>3</th>\n",
       "      <td>56</td>\n",
       "      <td>1</td>\n",
       "      <td>1</td>\n",
       "      <td>120</td>\n",
       "      <td>236</td>\n",
       "      <td>0</td>\n",
       "      <td>1</td>\n",
       "      <td>178</td>\n",
       "      <td>0</td>\n",
       "      <td>0.8</td>\n",
       "      <td>2</td>\n",
       "      <td>0</td>\n",
       "      <td>2</td>\n",
       "      <td>1</td>\n",
       "    </tr>\n",
       "    <tr>\n",
       "      <th>4</th>\n",
       "      <td>57</td>\n",
       "      <td>0</td>\n",
       "      <td>0</td>\n",
       "      <td>120</td>\n",
       "      <td>354</td>\n",
       "      <td>0</td>\n",
       "      <td>1</td>\n",
       "      <td>163</td>\n",
       "      <td>1</td>\n",
       "      <td>0.6</td>\n",
       "      <td>2</td>\n",
       "      <td>0</td>\n",
       "      <td>2</td>\n",
       "      <td>1</td>\n",
       "    </tr>\n",
       "    <tr>\n",
       "      <th>...</th>\n",
       "      <td>...</td>\n",
       "      <td>...</td>\n",
       "      <td>...</td>\n",
       "      <td>...</td>\n",
       "      <td>...</td>\n",
       "      <td>...</td>\n",
       "      <td>...</td>\n",
       "      <td>...</td>\n",
       "      <td>...</td>\n",
       "      <td>...</td>\n",
       "      <td>...</td>\n",
       "      <td>...</td>\n",
       "      <td>...</td>\n",
       "      <td>...</td>\n",
       "    </tr>\n",
       "    <tr>\n",
       "      <th>298</th>\n",
       "      <td>57</td>\n",
       "      <td>0</td>\n",
       "      <td>0</td>\n",
       "      <td>140</td>\n",
       "      <td>241</td>\n",
       "      <td>0</td>\n",
       "      <td>1</td>\n",
       "      <td>123</td>\n",
       "      <td>1</td>\n",
       "      <td>0.2</td>\n",
       "      <td>1</td>\n",
       "      <td>0</td>\n",
       "      <td>3</td>\n",
       "      <td>0</td>\n",
       "    </tr>\n",
       "    <tr>\n",
       "      <th>299</th>\n",
       "      <td>45</td>\n",
       "      <td>1</td>\n",
       "      <td>3</td>\n",
       "      <td>110</td>\n",
       "      <td>264</td>\n",
       "      <td>0</td>\n",
       "      <td>1</td>\n",
       "      <td>132</td>\n",
       "      <td>0</td>\n",
       "      <td>1.2</td>\n",
       "      <td>1</td>\n",
       "      <td>0</td>\n",
       "      <td>3</td>\n",
       "      <td>0</td>\n",
       "    </tr>\n",
       "    <tr>\n",
       "      <th>300</th>\n",
       "      <td>68</td>\n",
       "      <td>1</td>\n",
       "      <td>0</td>\n",
       "      <td>144</td>\n",
       "      <td>193</td>\n",
       "      <td>1</td>\n",
       "      <td>1</td>\n",
       "      <td>141</td>\n",
       "      <td>0</td>\n",
       "      <td>3.4</td>\n",
       "      <td>1</td>\n",
       "      <td>2</td>\n",
       "      <td>3</td>\n",
       "      <td>0</td>\n",
       "    </tr>\n",
       "    <tr>\n",
       "      <th>301</th>\n",
       "      <td>57</td>\n",
       "      <td>1</td>\n",
       "      <td>0</td>\n",
       "      <td>130</td>\n",
       "      <td>131</td>\n",
       "      <td>0</td>\n",
       "      <td>1</td>\n",
       "      <td>115</td>\n",
       "      <td>1</td>\n",
       "      <td>1.2</td>\n",
       "      <td>1</td>\n",
       "      <td>1</td>\n",
       "      <td>3</td>\n",
       "      <td>0</td>\n",
       "    </tr>\n",
       "    <tr>\n",
       "      <th>302</th>\n",
       "      <td>57</td>\n",
       "      <td>0</td>\n",
       "      <td>1</td>\n",
       "      <td>130</td>\n",
       "      <td>236</td>\n",
       "      <td>0</td>\n",
       "      <td>0</td>\n",
       "      <td>174</td>\n",
       "      <td>0</td>\n",
       "      <td>0.0</td>\n",
       "      <td>1</td>\n",
       "      <td>1</td>\n",
       "      <td>2</td>\n",
       "      <td>0</td>\n",
       "    </tr>\n",
       "  </tbody>\n",
       "</table>\n",
       "<p>303 rows × 14 columns</p>\n",
       "</div>"
      ],
      "text/plain": [
       "     age  sex  cp  trestbps  chol  fbs  restecg  thalach  exang  oldpeak  \\\n",
       "0     63    1   3       145   233    1        0      150      0      2.3   \n",
       "1     37    1   2       130   250    0        1      187      0      3.5   \n",
       "2     41    0   1       130   204    0        0      172      0      1.4   \n",
       "3     56    1   1       120   236    0        1      178      0      0.8   \n",
       "4     57    0   0       120   354    0        1      163      1      0.6   \n",
       "..   ...  ...  ..       ...   ...  ...      ...      ...    ...      ...   \n",
       "298   57    0   0       140   241    0        1      123      1      0.2   \n",
       "299   45    1   3       110   264    0        1      132      0      1.2   \n",
       "300   68    1   0       144   193    1        1      141      0      3.4   \n",
       "301   57    1   0       130   131    0        1      115      1      1.2   \n",
       "302   57    0   1       130   236    0        0      174      0      0.0   \n",
       "\n",
       "     slope  ca  thal  target  \n",
       "0        0   0     1       1  \n",
       "1        0   0     2       1  \n",
       "2        2   0     2       1  \n",
       "3        2   0     2       1  \n",
       "4        2   0     2       1  \n",
       "..     ...  ..   ...     ...  \n",
       "298      1   0     3       0  \n",
       "299      1   0     3       0  \n",
       "300      1   2     3       0  \n",
       "301      1   1     3       0  \n",
       "302      1   1     2       0  \n",
       "\n",
       "[303 rows x 14 columns]"
      ]
     },
     "execution_count": 3,
     "metadata": {},
     "output_type": "execute_result"
    }
   ],
   "source": [
    "data"
   ]
  },
  {
   "cell_type": "code",
   "execution_count": 4,
   "id": "06919151",
   "metadata": {
    "execution": {
     "iopub.execute_input": "2022-08-04T17:39:51.488599Z",
     "iopub.status.busy": "2022-08-04T17:39:51.488275Z",
     "iopub.status.idle": "2022-08-04T17:39:51.498908Z",
     "shell.execute_reply": "2022-08-04T17:39:51.497166Z"
    },
    "papermill": {
     "duration": 0.021215,
     "end_time": "2022-08-04T17:39:51.501498",
     "exception": false,
     "start_time": "2022-08-04T17:39:51.480283",
     "status": "completed"
    },
    "tags": []
   },
   "outputs": [],
   "source": [
    " # Create X (Feature Matrix)\n",
    " X = data.drop(\"target\", axis=1)\n",
    "\n",
    " # Create Y (lables)\n",
    " y = data[\"target\"]"
   ]
  },
  {
   "cell_type": "code",
   "execution_count": 5,
   "id": "0c988214",
   "metadata": {
    "execution": {
     "iopub.execute_input": "2022-08-04T17:39:51.516354Z",
     "iopub.status.busy": "2022-08-04T17:39:51.516030Z",
     "iopub.status.idle": "2022-08-04T17:39:51.694341Z",
     "shell.execute_reply": "2022-08-04T17:39:51.693171Z"
    },
    "papermill": {
     "duration": 0.188024,
     "end_time": "2022-08-04T17:39:51.696206",
     "exception": false,
     "start_time": "2022-08-04T17:39:51.508182",
     "status": "completed"
    },
    "tags": []
   },
   "outputs": [
    {
     "data": {
      "text/plain": [
       "{'bootstrap': True,\n",
       " 'ccp_alpha': 0.0,\n",
       " 'class_weight': None,\n",
       " 'criterion': 'gini',\n",
       " 'max_depth': None,\n",
       " 'max_features': 'auto',\n",
       " 'max_leaf_nodes': None,\n",
       " 'max_samples': None,\n",
       " 'min_impurity_decrease': 0.0,\n",
       " 'min_samples_leaf': 1,\n",
       " 'min_samples_split': 2,\n",
       " 'min_weight_fraction_leaf': 0.0,\n",
       " 'n_estimators': 100,\n",
       " 'n_jobs': None,\n",
       " 'oob_score': False,\n",
       " 'random_state': None,\n",
       " 'verbose': 0,\n",
       " 'warm_start': False}"
      ]
     },
     "execution_count": 5,
     "metadata": {},
     "output_type": "execute_result"
    }
   ],
   "source": [
    "# Choose the right model and Hyperparameters\n",
    "\n",
    "from sklearn.ensemble import RandomForestClassifier\n",
    "clf = RandomForestClassifier(n_estimators=100)\n",
    "\n",
    "# We'll keep the default hyperparameters\n",
    "clf.get_params()"
   ]
  },
  {
   "cell_type": "code",
   "execution_count": 6,
   "id": "e5d969ca",
   "metadata": {
    "execution": {
     "iopub.execute_input": "2022-08-04T17:39:51.711484Z",
     "iopub.status.busy": "2022-08-04T17:39:51.711161Z",
     "iopub.status.idle": "2022-08-04T17:39:51.716942Z",
     "shell.execute_reply": "2022-08-04T17:39:51.716008Z"
    },
    "papermill": {
     "duration": 0.016063,
     "end_time": "2022-08-04T17:39:51.718796",
     "exception": false,
     "start_time": "2022-08-04T17:39:51.702733",
     "status": "completed"
    },
    "tags": []
   },
   "outputs": [],
   "source": [
    "# Fit the model to the training data\n",
    "\n",
    "from sklearn.model_selection import train_test_split\n",
    "\n",
    "X_train, X_test, y_train, y_test = train_test_split(X,y, test_size=0.2)"
   ]
  },
  {
   "cell_type": "code",
   "execution_count": 7,
   "id": "94686b14",
   "metadata": {
    "execution": {
     "iopub.execute_input": "2022-08-04T17:39:51.734586Z",
     "iopub.status.busy": "2022-08-04T17:39:51.734221Z",
     "iopub.status.idle": "2022-08-04T17:39:51.870069Z",
     "shell.execute_reply": "2022-08-04T17:39:51.869136Z"
    },
    "papermill": {
     "duration": 0.146505,
     "end_time": "2022-08-04T17:39:51.872405",
     "exception": false,
     "start_time": "2022-08-04T17:39:51.725900",
     "status": "completed"
    },
    "tags": []
   },
   "outputs": [],
   "source": [
    "clf.fit(X_train, y_train);"
   ]
  },
  {
   "cell_type": "code",
   "execution_count": 8,
   "id": "7819a618",
   "metadata": {
    "execution": {
     "iopub.execute_input": "2022-08-04T17:39:51.887162Z",
     "iopub.status.busy": "2022-08-04T17:39:51.886650Z",
     "iopub.status.idle": "2022-08-04T17:39:51.903183Z",
     "shell.execute_reply": "2022-08-04T17:39:51.901891Z"
    },
    "papermill": {
     "duration": 0.026797,
     "end_time": "2022-08-04T17:39:51.905791",
     "exception": false,
     "start_time": "2022-08-04T17:39:51.878994",
     "status": "completed"
    },
    "tags": []
   },
   "outputs": [
    {
     "data": {
      "text/html": [
       "<div>\n",
       "<style scoped>\n",
       "    .dataframe tbody tr th:only-of-type {\n",
       "        vertical-align: middle;\n",
       "    }\n",
       "\n",
       "    .dataframe tbody tr th {\n",
       "        vertical-align: top;\n",
       "    }\n",
       "\n",
       "    .dataframe thead th {\n",
       "        text-align: right;\n",
       "    }\n",
       "</style>\n",
       "<table border=\"1\" class=\"dataframe\">\n",
       "  <thead>\n",
       "    <tr style=\"text-align: right;\">\n",
       "      <th></th>\n",
       "      <th>age</th>\n",
       "      <th>sex</th>\n",
       "      <th>cp</th>\n",
       "      <th>trestbps</th>\n",
       "      <th>chol</th>\n",
       "      <th>fbs</th>\n",
       "      <th>restecg</th>\n",
       "      <th>thalach</th>\n",
       "      <th>exang</th>\n",
       "      <th>oldpeak</th>\n",
       "      <th>slope</th>\n",
       "      <th>ca</th>\n",
       "      <th>thal</th>\n",
       "    </tr>\n",
       "  </thead>\n",
       "  <tbody>\n",
       "    <tr>\n",
       "      <th>212</th>\n",
       "      <td>39</td>\n",
       "      <td>1</td>\n",
       "      <td>0</td>\n",
       "      <td>118</td>\n",
       "      <td>219</td>\n",
       "      <td>0</td>\n",
       "      <td>1</td>\n",
       "      <td>140</td>\n",
       "      <td>0</td>\n",
       "      <td>1.2</td>\n",
       "      <td>1</td>\n",
       "      <td>0</td>\n",
       "      <td>3</td>\n",
       "    </tr>\n",
       "    <tr>\n",
       "      <th>224</th>\n",
       "      <td>54</td>\n",
       "      <td>1</td>\n",
       "      <td>0</td>\n",
       "      <td>110</td>\n",
       "      <td>239</td>\n",
       "      <td>0</td>\n",
       "      <td>1</td>\n",
       "      <td>126</td>\n",
       "      <td>1</td>\n",
       "      <td>2.8</td>\n",
       "      <td>1</td>\n",
       "      <td>1</td>\n",
       "      <td>3</td>\n",
       "    </tr>\n",
       "    <tr>\n",
       "      <th>15</th>\n",
       "      <td>50</td>\n",
       "      <td>0</td>\n",
       "      <td>2</td>\n",
       "      <td>120</td>\n",
       "      <td>219</td>\n",
       "      <td>0</td>\n",
       "      <td>1</td>\n",
       "      <td>158</td>\n",
       "      <td>0</td>\n",
       "      <td>1.6</td>\n",
       "      <td>1</td>\n",
       "      <td>0</td>\n",
       "      <td>2</td>\n",
       "    </tr>\n",
       "    <tr>\n",
       "      <th>188</th>\n",
       "      <td>50</td>\n",
       "      <td>1</td>\n",
       "      <td>2</td>\n",
       "      <td>140</td>\n",
       "      <td>233</td>\n",
       "      <td>0</td>\n",
       "      <td>1</td>\n",
       "      <td>163</td>\n",
       "      <td>0</td>\n",
       "      <td>0.6</td>\n",
       "      <td>1</td>\n",
       "      <td>1</td>\n",
       "      <td>3</td>\n",
       "    </tr>\n",
       "    <tr>\n",
       "      <th>235</th>\n",
       "      <td>51</td>\n",
       "      <td>1</td>\n",
       "      <td>0</td>\n",
       "      <td>140</td>\n",
       "      <td>299</td>\n",
       "      <td>0</td>\n",
       "      <td>1</td>\n",
       "      <td>173</td>\n",
       "      <td>1</td>\n",
       "      <td>1.6</td>\n",
       "      <td>2</td>\n",
       "      <td>0</td>\n",
       "      <td>3</td>\n",
       "    </tr>\n",
       "    <tr>\n",
       "      <th>...</th>\n",
       "      <td>...</td>\n",
       "      <td>...</td>\n",
       "      <td>...</td>\n",
       "      <td>...</td>\n",
       "      <td>...</td>\n",
       "      <td>...</td>\n",
       "      <td>...</td>\n",
       "      <td>...</td>\n",
       "      <td>...</td>\n",
       "      <td>...</td>\n",
       "      <td>...</td>\n",
       "      <td>...</td>\n",
       "      <td>...</td>\n",
       "    </tr>\n",
       "    <tr>\n",
       "      <th>61</th>\n",
       "      <td>54</td>\n",
       "      <td>1</td>\n",
       "      <td>1</td>\n",
       "      <td>108</td>\n",
       "      <td>309</td>\n",
       "      <td>0</td>\n",
       "      <td>1</td>\n",
       "      <td>156</td>\n",
       "      <td>0</td>\n",
       "      <td>0.0</td>\n",
       "      <td>2</td>\n",
       "      <td>0</td>\n",
       "      <td>3</td>\n",
       "    </tr>\n",
       "    <tr>\n",
       "      <th>73</th>\n",
       "      <td>51</td>\n",
       "      <td>1</td>\n",
       "      <td>0</td>\n",
       "      <td>140</td>\n",
       "      <td>261</td>\n",
       "      <td>0</td>\n",
       "      <td>0</td>\n",
       "      <td>186</td>\n",
       "      <td>1</td>\n",
       "      <td>0.0</td>\n",
       "      <td>2</td>\n",
       "      <td>0</td>\n",
       "      <td>2</td>\n",
       "    </tr>\n",
       "    <tr>\n",
       "      <th>46</th>\n",
       "      <td>44</td>\n",
       "      <td>1</td>\n",
       "      <td>2</td>\n",
       "      <td>140</td>\n",
       "      <td>235</td>\n",
       "      <td>0</td>\n",
       "      <td>0</td>\n",
       "      <td>180</td>\n",
       "      <td>0</td>\n",
       "      <td>0.0</td>\n",
       "      <td>2</td>\n",
       "      <td>0</td>\n",
       "      <td>2</td>\n",
       "    </tr>\n",
       "    <tr>\n",
       "      <th>34</th>\n",
       "      <td>51</td>\n",
       "      <td>1</td>\n",
       "      <td>3</td>\n",
       "      <td>125</td>\n",
       "      <td>213</td>\n",
       "      <td>0</td>\n",
       "      <td>0</td>\n",
       "      <td>125</td>\n",
       "      <td>1</td>\n",
       "      <td>1.4</td>\n",
       "      <td>2</td>\n",
       "      <td>1</td>\n",
       "      <td>2</td>\n",
       "    </tr>\n",
       "    <tr>\n",
       "      <th>66</th>\n",
       "      <td>51</td>\n",
       "      <td>1</td>\n",
       "      <td>2</td>\n",
       "      <td>100</td>\n",
       "      <td>222</td>\n",
       "      <td>0</td>\n",
       "      <td>1</td>\n",
       "      <td>143</td>\n",
       "      <td>1</td>\n",
       "      <td>1.2</td>\n",
       "      <td>1</td>\n",
       "      <td>0</td>\n",
       "      <td>2</td>\n",
       "    </tr>\n",
       "  </tbody>\n",
       "</table>\n",
       "<p>242 rows × 13 columns</p>\n",
       "</div>"
      ],
      "text/plain": [
       "     age  sex  cp  trestbps  chol  fbs  restecg  thalach  exang  oldpeak  \\\n",
       "212   39    1   0       118   219    0        1      140      0      1.2   \n",
       "224   54    1   0       110   239    0        1      126      1      2.8   \n",
       "15    50    0   2       120   219    0        1      158      0      1.6   \n",
       "188   50    1   2       140   233    0        1      163      0      0.6   \n",
       "235   51    1   0       140   299    0        1      173      1      1.6   \n",
       "..   ...  ...  ..       ...   ...  ...      ...      ...    ...      ...   \n",
       "61    54    1   1       108   309    0        1      156      0      0.0   \n",
       "73    51    1   0       140   261    0        0      186      1      0.0   \n",
       "46    44    1   2       140   235    0        0      180      0      0.0   \n",
       "34    51    1   3       125   213    0        0      125      1      1.4   \n",
       "66    51    1   2       100   222    0        1      143      1      1.2   \n",
       "\n",
       "     slope  ca  thal  \n",
       "212      1   0     3  \n",
       "224      1   1     3  \n",
       "15       1   0     2  \n",
       "188      1   1     3  \n",
       "235      2   0     3  \n",
       "..     ...  ..   ...  \n",
       "61       2   0     3  \n",
       "73       2   0     2  \n",
       "46       2   0     2  \n",
       "34       2   1     2  \n",
       "66       1   0     2  \n",
       "\n",
       "[242 rows x 13 columns]"
      ]
     },
     "execution_count": 8,
     "metadata": {},
     "output_type": "execute_result"
    }
   ],
   "source": [
    " X_train"
   ]
  },
  {
   "cell_type": "code",
   "execution_count": 9,
   "id": "be1c3055",
   "metadata": {
    "execution": {
     "iopub.execute_input": "2022-08-04T17:39:51.922081Z",
     "iopub.status.busy": "2022-08-04T17:39:51.921545Z",
     "iopub.status.idle": "2022-08-04T17:39:51.939280Z",
     "shell.execute_reply": "2022-08-04T17:39:51.938274Z"
    },
    "papermill": {
     "duration": 0.027747,
     "end_time": "2022-08-04T17:39:51.941111",
     "exception": false,
     "start_time": "2022-08-04T17:39:51.913364",
     "status": "completed"
    },
    "tags": []
   },
   "outputs": [
    {
     "data": {
      "text/plain": [
       "array([1, 0, 1, 1, 1, 1, 1, 1, 0, 1, 0, 0, 1, 0, 0, 1, 0, 0, 0, 1, 1, 0,\n",
       "       0, 1, 1, 1, 0, 0, 1, 1, 0, 1, 1, 0, 0, 0, 0, 0, 1, 1, 1, 0, 1, 1,\n",
       "       1, 1, 1, 1, 1, 1, 1, 0, 0, 0, 0, 1, 1, 0, 1, 1, 0])"
      ]
     },
     "execution_count": 9,
     "metadata": {},
     "output_type": "execute_result"
    }
   ],
   "source": [
    "y_pred=clf.predict(X_test)\n",
    "y_pred"
   ]
  },
  {
   "cell_type": "code",
   "execution_count": 10,
   "id": "8f107b76",
   "metadata": {
    "execution": {
     "iopub.execute_input": "2022-08-04T17:39:51.956997Z",
     "iopub.status.busy": "2022-08-04T17:39:51.956104Z",
     "iopub.status.idle": "2022-08-04T17:39:51.963140Z",
     "shell.execute_reply": "2022-08-04T17:39:51.962280Z"
    },
    "papermill": {
     "duration": 0.016819,
     "end_time": "2022-08-04T17:39:51.964900",
     "exception": false,
     "start_time": "2022-08-04T17:39:51.948081",
     "status": "completed"
    },
    "tags": []
   },
   "outputs": [
    {
     "data": {
      "text/plain": [
       "54     1\n",
       "299    0\n",
       "76     1\n",
       "36     1\n",
       "134    1\n",
       "      ..\n",
       "39     1\n",
       "211    0\n",
       "84     1\n",
       "26     1\n",
       "244    0\n",
       "Name: target, Length: 61, dtype: int64"
      ]
     },
     "execution_count": 10,
     "metadata": {},
     "output_type": "execute_result"
    }
   ],
   "source": [
    "y_test"
   ]
  },
  {
   "cell_type": "code",
   "execution_count": 11,
   "id": "7f57e380",
   "metadata": {
    "execution": {
     "iopub.execute_input": "2022-08-04T17:39:51.981236Z",
     "iopub.status.busy": "2022-08-04T17:39:51.980868Z",
     "iopub.status.idle": "2022-08-04T17:39:52.002162Z",
     "shell.execute_reply": "2022-08-04T17:39:52.000913Z"
    },
    "papermill": {
     "duration": 0.031539,
     "end_time": "2022-08-04T17:39:52.003985",
     "exception": false,
     "start_time": "2022-08-04T17:39:51.972446",
     "status": "completed"
    },
    "tags": []
   },
   "outputs": [
    {
     "data": {
      "text/plain": [
       "1.0"
      ]
     },
     "execution_count": 11,
     "metadata": {},
     "output_type": "execute_result"
    }
   ],
   "source": [
    "# Evaluate the model on the training data and test data\n",
    "\n",
    "clf.score(X_train, y_train)"
   ]
  },
  {
   "cell_type": "code",
   "execution_count": 12,
   "id": "c5d1b58a",
   "metadata": {
    "execution": {
     "iopub.execute_input": "2022-08-04T17:39:52.019728Z",
     "iopub.status.busy": "2022-08-04T17:39:52.019389Z",
     "iopub.status.idle": "2022-08-04T17:39:52.039246Z",
     "shell.execute_reply": "2022-08-04T17:39:52.038393Z"
    },
    "papermill": {
     "duration": 0.03049,
     "end_time": "2022-08-04T17:39:52.041402",
     "exception": false,
     "start_time": "2022-08-04T17:39:52.010912",
     "status": "completed"
    },
    "tags": []
   },
   "outputs": [
    {
     "data": {
      "text/plain": [
       "0.8524590163934426"
      ]
     },
     "execution_count": 12,
     "metadata": {},
     "output_type": "execute_result"
    }
   ],
   "source": [
    "clf.score(X_test, y_test)"
   ]
  },
  {
   "cell_type": "code",
   "execution_count": 13,
   "id": "084ea868",
   "metadata": {
    "execution": {
     "iopub.execute_input": "2022-08-04T17:39:52.057695Z",
     "iopub.status.busy": "2022-08-04T17:39:52.056936Z",
     "iopub.status.idle": "2022-08-04T17:39:52.066044Z",
     "shell.execute_reply": "2022-08-04T17:39:52.064378Z"
    },
    "papermill": {
     "duration": 0.019737,
     "end_time": "2022-08-04T17:39:52.068316",
     "exception": false,
     "start_time": "2022-08-04T17:39:52.048579",
     "status": "completed"
    },
    "tags": []
   },
   "outputs": [
    {
     "name": "stdout",
     "output_type": "stream",
     "text": [
      "              precision    recall  f1-score   support\n",
      "\n",
      "           0       0.77      0.87      0.82        23\n",
      "           1       0.91      0.84      0.88        38\n",
      "\n",
      "    accuracy                           0.85        61\n",
      "   macro avg       0.84      0.86      0.85        61\n",
      "weighted avg       0.86      0.85      0.85        61\n",
      "\n"
     ]
    }
   ],
   "source": [
    " from sklearn.metrics import classification_report, confusion_matrix, accuracy_score\n",
    "\n",
    " print (classification_report(y_test, y_pred))"
   ]
  },
  {
   "cell_type": "code",
   "execution_count": 14,
   "id": "533ad133",
   "metadata": {
    "execution": {
     "iopub.execute_input": "2022-08-04T17:39:52.084126Z",
     "iopub.status.busy": "2022-08-04T17:39:52.083799Z",
     "iopub.status.idle": "2022-08-04T17:39:52.092359Z",
     "shell.execute_reply": "2022-08-04T17:39:52.091724Z"
    },
    "papermill": {
     "duration": 0.018352,
     "end_time": "2022-08-04T17:39:52.093993",
     "exception": false,
     "start_time": "2022-08-04T17:39:52.075641",
     "status": "completed"
    },
    "tags": []
   },
   "outputs": [
    {
     "data": {
      "text/plain": [
       "array([[20,  3],\n",
       "       [ 6, 32]])"
      ]
     },
     "execution_count": 14,
     "metadata": {},
     "output_type": "execute_result"
    }
   ],
   "source": [
    "confusion_matrix(y_test, y_pred)"
   ]
  },
  {
   "cell_type": "code",
   "execution_count": 15,
   "id": "e1cc476f",
   "metadata": {
    "execution": {
     "iopub.execute_input": "2022-08-04T17:39:52.110179Z",
     "iopub.status.busy": "2022-08-04T17:39:52.109601Z",
     "iopub.status.idle": "2022-08-04T17:39:52.114638Z",
     "shell.execute_reply": "2022-08-04T17:39:52.114025Z"
    },
    "papermill": {
     "duration": 0.015205,
     "end_time": "2022-08-04T17:39:52.116401",
     "exception": false,
     "start_time": "2022-08-04T17:39:52.101196",
     "status": "completed"
    },
    "tags": []
   },
   "outputs": [
    {
     "data": {
      "text/plain": [
       "0.8524590163934426"
      ]
     },
     "execution_count": 15,
     "metadata": {},
     "output_type": "execute_result"
    }
   ],
   "source": [
    "accuracy_score(y_test, y_pred)"
   ]
  },
  {
   "cell_type": "code",
   "execution_count": 16,
   "id": "ddc97ec4",
   "metadata": {
    "execution": {
     "iopub.execute_input": "2022-08-04T17:39:52.133360Z",
     "iopub.status.busy": "2022-08-04T17:39:52.133009Z",
     "iopub.status.idle": "2022-08-04T17:39:53.103026Z",
     "shell.execute_reply": "2022-08-04T17:39:53.101720Z"
    },
    "papermill": {
     "duration": 0.982094,
     "end_time": "2022-08-04T17:39:53.106253",
     "exception": false,
     "start_time": "2022-08-04T17:39:52.124159",
     "status": "completed"
    },
    "tags": []
   },
   "outputs": [
    {
     "name": "stdout",
     "output_type": "stream",
     "text": [
      "Trying model with 10 estimators\n",
      "Model Accuracy on test set: 81.97%\n",
      "\n",
      "Trying model with 20 estimators\n",
      "Model Accuracy on test set: 85.25%\n",
      "\n",
      "Trying model with 30 estimators\n",
      "Model Accuracy on test set: 81.97%\n",
      "\n",
      "Trying model with 40 estimators\n",
      "Model Accuracy on test set: 83.61%\n",
      "\n",
      "Trying model with 50 estimators\n",
      "Model Accuracy on test set: 85.25%\n",
      "\n",
      "Trying model with 60 estimators\n",
      "Model Accuracy on test set: 86.89%\n",
      "\n",
      "Trying model with 70 estimators\n",
      "Model Accuracy on test set: 85.25%\n",
      "\n",
      "Trying model with 80 estimators\n",
      "Model Accuracy on test set: 83.61%\n",
      "\n",
      "Trying model with 90 estimators\n",
      "Model Accuracy on test set: 85.25%\n",
      "\n",
      "Trying model with 100 estimators\n",
      "Model Accuracy on test set: 86.89%\n",
      "\n",
      "Trying model with 110 estimators\n",
      "Model Accuracy on test set: 85.25%\n",
      "\n"
     ]
    }
   ],
   "source": [
    "# Improve a model\n",
    "# Try different amount of n_estimators\n",
    "\n",
    "np.random.seed(42)\n",
    "for i in range(10, 120, 10):\n",
    "  print(f\"Trying model with {i} estimators\")\n",
    "  clf= RandomForestClassifier(n_estimators=i).fit(X_train, y_train)\n",
    "  print(f\"Model Accuracy on test set: {clf.score(X_test, y_test)*100:.2f}%\")\n",
    "  print(\"\")\n"
   ]
  },
  {
   "cell_type": "code",
   "execution_count": 17,
   "id": "95b22b29",
   "metadata": {
    "execution": {
     "iopub.execute_input": "2022-08-04T17:39:53.124329Z",
     "iopub.status.busy": "2022-08-04T17:39:53.124001Z",
     "iopub.status.idle": "2022-08-04T17:39:53.134058Z",
     "shell.execute_reply": "2022-08-04T17:39:53.132867Z"
    },
    "papermill": {
     "duration": 0.021868,
     "end_time": "2022-08-04T17:39:53.136426",
     "exception": false,
     "start_time": "2022-08-04T17:39:53.114558",
     "status": "completed"
    },
    "tags": []
   },
   "outputs": [],
   "source": [
    "\n",
    "# Save a model and load it\n",
    "import pickle\n",
    "pickle.dump(clf, open(\"random_forest_1.pk1\", \"wb\"))"
   ]
  },
  {
   "cell_type": "code",
   "execution_count": 18,
   "id": "3f4c3ccd",
   "metadata": {
    "execution": {
     "iopub.execute_input": "2022-08-04T17:39:53.154353Z",
     "iopub.status.busy": "2022-08-04T17:39:53.153988Z",
     "iopub.status.idle": "2022-08-04T17:39:53.181279Z",
     "shell.execute_reply": "2022-08-04T17:39:53.179411Z"
    },
    "papermill": {
     "duration": 0.039355,
     "end_time": "2022-08-04T17:39:53.183951",
     "exception": false,
     "start_time": "2022-08-04T17:39:53.144596",
     "status": "completed"
    },
    "tags": []
   },
   "outputs": [
    {
     "data": {
      "text/plain": [
       "0.8524590163934426"
      ]
     },
     "execution_count": 18,
     "metadata": {},
     "output_type": "execute_result"
    }
   ],
   "source": [
    "# Load a model\n",
    "loaded_model = pickle.load(open(\"random_forest_1.pk1\", \"rb\"))\n",
    "loaded_model.score(X_test, y_test)\n"
   ]
  },
  {
   "cell_type": "markdown",
   "id": "fe357fd0",
   "metadata": {
    "papermill": {
     "duration": 0.008094,
     "end_time": "2022-08-04T17:39:53.200656",
     "exception": false,
     "start_time": "2022-08-04T17:39:53.192562",
     "status": "completed"
    },
    "tags": []
   },
   "source": [
    "# # 1. Getting our data redy to be used with machine learrning \n",
    "\n",
    "**These main things we have to do:**\n",
    "   1. Split the data into features and lables(usually 'X' & 'y')\n",
    "   2. Filling (also called imputing) or disregarding missing values\n",
    "   3. Converting non numerical values to numerical values (also called feature encoding)"
   ]
  },
  {
   "cell_type": "code",
   "execution_count": 19,
   "id": "3a718fc0",
   "metadata": {
    "execution": {
     "iopub.execute_input": "2022-08-04T17:39:53.218236Z",
     "iopub.status.busy": "2022-08-04T17:39:53.217878Z",
     "iopub.status.idle": "2022-08-04T17:39:53.231128Z",
     "shell.execute_reply": "2022-08-04T17:39:53.230413Z"
    },
    "papermill": {
     "duration": 0.023802,
     "end_time": "2022-08-04T17:39:53.232731",
     "exception": false,
     "start_time": "2022-08-04T17:39:53.208929",
     "status": "completed"
    },
    "tags": []
   },
   "outputs": [
    {
     "data": {
      "text/html": [
       "<div>\n",
       "<style scoped>\n",
       "    .dataframe tbody tr th:only-of-type {\n",
       "        vertical-align: middle;\n",
       "    }\n",
       "\n",
       "    .dataframe tbody tr th {\n",
       "        vertical-align: top;\n",
       "    }\n",
       "\n",
       "    .dataframe thead th {\n",
       "        text-align: right;\n",
       "    }\n",
       "</style>\n",
       "<table border=\"1\" class=\"dataframe\">\n",
       "  <thead>\n",
       "    <tr style=\"text-align: right;\">\n",
       "      <th></th>\n",
       "      <th>age</th>\n",
       "      <th>sex</th>\n",
       "      <th>cp</th>\n",
       "      <th>trestbps</th>\n",
       "      <th>chol</th>\n",
       "      <th>fbs</th>\n",
       "      <th>restecg</th>\n",
       "      <th>thalach</th>\n",
       "      <th>exang</th>\n",
       "      <th>oldpeak</th>\n",
       "      <th>slope</th>\n",
       "      <th>ca</th>\n",
       "      <th>thal</th>\n",
       "      <th>target</th>\n",
       "    </tr>\n",
       "  </thead>\n",
       "  <tbody>\n",
       "    <tr>\n",
       "      <th>0</th>\n",
       "      <td>63</td>\n",
       "      <td>1</td>\n",
       "      <td>3</td>\n",
       "      <td>145</td>\n",
       "      <td>233</td>\n",
       "      <td>1</td>\n",
       "      <td>0</td>\n",
       "      <td>150</td>\n",
       "      <td>0</td>\n",
       "      <td>2.3</td>\n",
       "      <td>0</td>\n",
       "      <td>0</td>\n",
       "      <td>1</td>\n",
       "      <td>1</td>\n",
       "    </tr>\n",
       "    <tr>\n",
       "      <th>1</th>\n",
       "      <td>37</td>\n",
       "      <td>1</td>\n",
       "      <td>2</td>\n",
       "      <td>130</td>\n",
       "      <td>250</td>\n",
       "      <td>0</td>\n",
       "      <td>1</td>\n",
       "      <td>187</td>\n",
       "      <td>0</td>\n",
       "      <td>3.5</td>\n",
       "      <td>0</td>\n",
       "      <td>0</td>\n",
       "      <td>2</td>\n",
       "      <td>1</td>\n",
       "    </tr>\n",
       "    <tr>\n",
       "      <th>2</th>\n",
       "      <td>41</td>\n",
       "      <td>0</td>\n",
       "      <td>1</td>\n",
       "      <td>130</td>\n",
       "      <td>204</td>\n",
       "      <td>0</td>\n",
       "      <td>0</td>\n",
       "      <td>172</td>\n",
       "      <td>0</td>\n",
       "      <td>1.4</td>\n",
       "      <td>2</td>\n",
       "      <td>0</td>\n",
       "      <td>2</td>\n",
       "      <td>1</td>\n",
       "    </tr>\n",
       "    <tr>\n",
       "      <th>3</th>\n",
       "      <td>56</td>\n",
       "      <td>1</td>\n",
       "      <td>1</td>\n",
       "      <td>120</td>\n",
       "      <td>236</td>\n",
       "      <td>0</td>\n",
       "      <td>1</td>\n",
       "      <td>178</td>\n",
       "      <td>0</td>\n",
       "      <td>0.8</td>\n",
       "      <td>2</td>\n",
       "      <td>0</td>\n",
       "      <td>2</td>\n",
       "      <td>1</td>\n",
       "    </tr>\n",
       "    <tr>\n",
       "      <th>4</th>\n",
       "      <td>57</td>\n",
       "      <td>0</td>\n",
       "      <td>0</td>\n",
       "      <td>120</td>\n",
       "      <td>354</td>\n",
       "      <td>0</td>\n",
       "      <td>1</td>\n",
       "      <td>163</td>\n",
       "      <td>1</td>\n",
       "      <td>0.6</td>\n",
       "      <td>2</td>\n",
       "      <td>0</td>\n",
       "      <td>2</td>\n",
       "      <td>1</td>\n",
       "    </tr>\n",
       "    <tr>\n",
       "      <th>5</th>\n",
       "      <td>57</td>\n",
       "      <td>1</td>\n",
       "      <td>0</td>\n",
       "      <td>140</td>\n",
       "      <td>192</td>\n",
       "      <td>0</td>\n",
       "      <td>1</td>\n",
       "      <td>148</td>\n",
       "      <td>0</td>\n",
       "      <td>0.4</td>\n",
       "      <td>1</td>\n",
       "      <td>0</td>\n",
       "      <td>1</td>\n",
       "      <td>1</td>\n",
       "    </tr>\n",
       "  </tbody>\n",
       "</table>\n",
       "</div>"
      ],
      "text/plain": [
       "   age  sex  cp  trestbps  chol  fbs  restecg  thalach  exang  oldpeak  slope  \\\n",
       "0   63    1   3       145   233    1        0      150      0      2.3      0   \n",
       "1   37    1   2       130   250    0        1      187      0      3.5      0   \n",
       "2   41    0   1       130   204    0        0      172      0      1.4      2   \n",
       "3   56    1   1       120   236    0        1      178      0      0.8      2   \n",
       "4   57    0   0       120   354    0        1      163      1      0.6      2   \n",
       "5   57    1   0       140   192    0        1      148      0      0.4      1   \n",
       "\n",
       "   ca  thal  target  \n",
       "0   0     1       1  \n",
       "1   0     2       1  \n",
       "2   0     2       1  \n",
       "3   0     2       1  \n",
       "4   0     2       1  \n",
       "5   0     1       1  "
      ]
     },
     "execution_count": 19,
     "metadata": {},
     "output_type": "execute_result"
    }
   ],
   "source": [
    "data.head(6)"
   ]
  },
  {
   "cell_type": "code",
   "execution_count": 20,
   "id": "84456f03",
   "metadata": {
    "execution": {
     "iopub.execute_input": "2022-08-04T17:39:53.252148Z",
     "iopub.status.busy": "2022-08-04T17:39:53.251587Z",
     "iopub.status.idle": "2022-08-04T17:39:53.266214Z",
     "shell.execute_reply": "2022-08-04T17:39:53.264760Z"
    },
    "papermill": {
     "duration": 0.027586,
     "end_time": "2022-08-04T17:39:53.268515",
     "exception": false,
     "start_time": "2022-08-04T17:39:53.240929",
     "status": "completed"
    },
    "tags": []
   },
   "outputs": [
    {
     "data": {
      "text/html": [
       "<div>\n",
       "<style scoped>\n",
       "    .dataframe tbody tr th:only-of-type {\n",
       "        vertical-align: middle;\n",
       "    }\n",
       "\n",
       "    .dataframe tbody tr th {\n",
       "        vertical-align: top;\n",
       "    }\n",
       "\n",
       "    .dataframe thead th {\n",
       "        text-align: right;\n",
       "    }\n",
       "</style>\n",
       "<table border=\"1\" class=\"dataframe\">\n",
       "  <thead>\n",
       "    <tr style=\"text-align: right;\">\n",
       "      <th></th>\n",
       "      <th>age</th>\n",
       "      <th>sex</th>\n",
       "      <th>cp</th>\n",
       "      <th>trestbps</th>\n",
       "      <th>chol</th>\n",
       "      <th>fbs</th>\n",
       "      <th>restecg</th>\n",
       "      <th>thalach</th>\n",
       "      <th>exang</th>\n",
       "      <th>oldpeak</th>\n",
       "      <th>slope</th>\n",
       "      <th>ca</th>\n",
       "      <th>thal</th>\n",
       "    </tr>\n",
       "  </thead>\n",
       "  <tbody>\n",
       "    <tr>\n",
       "      <th>0</th>\n",
       "      <td>63</td>\n",
       "      <td>1</td>\n",
       "      <td>3</td>\n",
       "      <td>145</td>\n",
       "      <td>233</td>\n",
       "      <td>1</td>\n",
       "      <td>0</td>\n",
       "      <td>150</td>\n",
       "      <td>0</td>\n",
       "      <td>2.3</td>\n",
       "      <td>0</td>\n",
       "      <td>0</td>\n",
       "      <td>1</td>\n",
       "    </tr>\n",
       "    <tr>\n",
       "      <th>1</th>\n",
       "      <td>37</td>\n",
       "      <td>1</td>\n",
       "      <td>2</td>\n",
       "      <td>130</td>\n",
       "      <td>250</td>\n",
       "      <td>0</td>\n",
       "      <td>1</td>\n",
       "      <td>187</td>\n",
       "      <td>0</td>\n",
       "      <td>3.5</td>\n",
       "      <td>0</td>\n",
       "      <td>0</td>\n",
       "      <td>2</td>\n",
       "    </tr>\n",
       "    <tr>\n",
       "      <th>2</th>\n",
       "      <td>41</td>\n",
       "      <td>0</td>\n",
       "      <td>1</td>\n",
       "      <td>130</td>\n",
       "      <td>204</td>\n",
       "      <td>0</td>\n",
       "      <td>0</td>\n",
       "      <td>172</td>\n",
       "      <td>0</td>\n",
       "      <td>1.4</td>\n",
       "      <td>2</td>\n",
       "      <td>0</td>\n",
       "      <td>2</td>\n",
       "    </tr>\n",
       "    <tr>\n",
       "      <th>3</th>\n",
       "      <td>56</td>\n",
       "      <td>1</td>\n",
       "      <td>1</td>\n",
       "      <td>120</td>\n",
       "      <td>236</td>\n",
       "      <td>0</td>\n",
       "      <td>1</td>\n",
       "      <td>178</td>\n",
       "      <td>0</td>\n",
       "      <td>0.8</td>\n",
       "      <td>2</td>\n",
       "      <td>0</td>\n",
       "      <td>2</td>\n",
       "    </tr>\n",
       "    <tr>\n",
       "      <th>4</th>\n",
       "      <td>57</td>\n",
       "      <td>0</td>\n",
       "      <td>0</td>\n",
       "      <td>120</td>\n",
       "      <td>354</td>\n",
       "      <td>0</td>\n",
       "      <td>1</td>\n",
       "      <td>163</td>\n",
       "      <td>1</td>\n",
       "      <td>0.6</td>\n",
       "      <td>2</td>\n",
       "      <td>0</td>\n",
       "      <td>2</td>\n",
       "    </tr>\n",
       "  </tbody>\n",
       "</table>\n",
       "</div>"
      ],
      "text/plain": [
       "   age  sex  cp  trestbps  chol  fbs  restecg  thalach  exang  oldpeak  slope  \\\n",
       "0   63    1   3       145   233    1        0      150      0      2.3      0   \n",
       "1   37    1   2       130   250    0        1      187      0      3.5      0   \n",
       "2   41    0   1       130   204    0        0      172      0      1.4      2   \n",
       "3   56    1   1       120   236    0        1      178      0      0.8      2   \n",
       "4   57    0   0       120   354    0        1      163      1      0.6      2   \n",
       "\n",
       "   ca  thal  \n",
       "0   0     1  \n",
       "1   0     2  \n",
       "2   0     2  \n",
       "3   0     2  \n",
       "4   0     2  "
      ]
     },
     "execution_count": 20,
     "metadata": {},
     "output_type": "execute_result"
    }
   ],
   "source": [
    "X = data.drop(\"target\", axis=1)\n",
    "X.head(5)"
   ]
  },
  {
   "cell_type": "code",
   "execution_count": 21,
   "id": "200334b9",
   "metadata": {
    "execution": {
     "iopub.execute_input": "2022-08-04T17:39:53.288367Z",
     "iopub.status.busy": "2022-08-04T17:39:53.288037Z",
     "iopub.status.idle": "2022-08-04T17:39:53.294795Z",
     "shell.execute_reply": "2022-08-04T17:39:53.293786Z"
    },
    "papermill": {
     "duration": 0.019502,
     "end_time": "2022-08-04T17:39:53.296903",
     "exception": false,
     "start_time": "2022-08-04T17:39:53.277401",
     "status": "completed"
    },
    "tags": []
   },
   "outputs": [
    {
     "data": {
      "text/plain": [
       "0    1\n",
       "1    1\n",
       "2    1\n",
       "3    1\n",
       "4    1\n",
       "Name: target, dtype: int64"
      ]
     },
     "execution_count": 21,
     "metadata": {},
     "output_type": "execute_result"
    }
   ],
   "source": [
    "y = data['target']\n",
    "y.head()"
   ]
  },
  {
   "cell_type": "code",
   "execution_count": 22,
   "id": "368d1733",
   "metadata": {
    "execution": {
     "iopub.execute_input": "2022-08-04T17:39:53.315994Z",
     "iopub.status.busy": "2022-08-04T17:39:53.315660Z",
     "iopub.status.idle": "2022-08-04T17:39:53.321874Z",
     "shell.execute_reply": "2022-08-04T17:39:53.320591Z"
    },
    "papermill": {
     "duration": 0.018195,
     "end_time": "2022-08-04T17:39:53.323858",
     "exception": false,
     "start_time": "2022-08-04T17:39:53.305663",
     "status": "completed"
    },
    "tags": []
   },
   "outputs": [],
   "source": [
    "# Split the data into training and test sets\n",
    "\n",
    "from sklearn.model_selection import train_test_split\n",
    "X_testtrain, X_test, y_train,  y_test = train_test_split(X, y, test_size=0.2)"
   ]
  },
  {
   "cell_type": "code",
   "execution_count": 23,
   "id": "716dd485",
   "metadata": {
    "execution": {
     "iopub.execute_input": "2022-08-04T17:39:53.343104Z",
     "iopub.status.busy": "2022-08-04T17:39:53.342730Z",
     "iopub.status.idle": "2022-08-04T17:39:53.348572Z",
     "shell.execute_reply": "2022-08-04T17:39:53.347624Z"
    },
    "papermill": {
     "duration": 0.018585,
     "end_time": "2022-08-04T17:39:53.351148",
     "exception": false,
     "start_time": "2022-08-04T17:39:53.332563",
     "status": "completed"
    },
    "tags": []
   },
   "outputs": [
    {
     "data": {
      "text/plain": [
       "((242, 13), (61, 13), (242,), (61,))"
      ]
     },
     "execution_count": 23,
     "metadata": {},
     "output_type": "execute_result"
    }
   ],
   "source": [
    "X_train.shape, X_test.shape, y_train.shape, y_test.shape"
   ]
  },
  {
   "cell_type": "markdown",
   "id": "66dd0e6a",
   "metadata": {
    "papermill": {
     "duration": 0.008345,
     "end_time": "2022-08-04T17:39:53.368690",
     "exception": false,
     "start_time": "2022-08-04T17:39:53.360345",
     "status": "completed"
    },
    "tags": []
   },
   "source": [
    "# # Cleaning Our Data for Better Model"
   ]
  },
  {
   "cell_type": "markdown",
   "id": "20e78242",
   "metadata": {
    "papermill": {
     "duration": 0.008112,
     "end_time": "2022-08-04T17:39:53.385245",
     "exception": false,
     "start_time": "2022-08-04T17:39:53.377133",
     "status": "completed"
    },
    "tags": []
   },
   "source": [
    "# 1.1 Make sure it's all Numerical"
   ]
  },
  {
   "cell_type": "code",
   "execution_count": 24,
   "id": "7b86cd6c",
   "metadata": {
    "execution": {
     "iopub.execute_input": "2022-08-04T17:39:53.404689Z",
     "iopub.status.busy": "2022-08-04T17:39:53.404357Z",
     "iopub.status.idle": "2022-08-04T17:39:53.424710Z",
     "shell.execute_reply": "2022-08-04T17:39:53.423670Z"
    },
    "papermill": {
     "duration": 0.032282,
     "end_time": "2022-08-04T17:39:53.426721",
     "exception": false,
     "start_time": "2022-08-04T17:39:53.394439",
     "status": "completed"
    },
    "tags": []
   },
   "outputs": [
    {
     "data": {
      "text/html": [
       "<div>\n",
       "<style scoped>\n",
       "    .dataframe tbody tr th:only-of-type {\n",
       "        vertical-align: middle;\n",
       "    }\n",
       "\n",
       "    .dataframe tbody tr th {\n",
       "        vertical-align: top;\n",
       "    }\n",
       "\n",
       "    .dataframe thead th {\n",
       "        text-align: right;\n",
       "    }\n",
       "</style>\n",
       "<table border=\"1\" class=\"dataframe\">\n",
       "  <thead>\n",
       "    <tr style=\"text-align: right;\">\n",
       "      <th></th>\n",
       "      <th>Make</th>\n",
       "      <th>Colour</th>\n",
       "      <th>Odometer (KM)</th>\n",
       "      <th>Doors</th>\n",
       "      <th>Price</th>\n",
       "    </tr>\n",
       "  </thead>\n",
       "  <tbody>\n",
       "    <tr>\n",
       "      <th>0</th>\n",
       "      <td>Honda</td>\n",
       "      <td>White</td>\n",
       "      <td>35431.0</td>\n",
       "      <td>4.0</td>\n",
       "      <td>15323.0</td>\n",
       "    </tr>\n",
       "    <tr>\n",
       "      <th>1</th>\n",
       "      <td>BMW</td>\n",
       "      <td>Blue</td>\n",
       "      <td>192714.0</td>\n",
       "      <td>5.0</td>\n",
       "      <td>19943.0</td>\n",
       "    </tr>\n",
       "    <tr>\n",
       "      <th>2</th>\n",
       "      <td>Honda</td>\n",
       "      <td>White</td>\n",
       "      <td>84714.0</td>\n",
       "      <td>4.0</td>\n",
       "      <td>28343.0</td>\n",
       "    </tr>\n",
       "    <tr>\n",
       "      <th>3</th>\n",
       "      <td>Toyota</td>\n",
       "      <td>White</td>\n",
       "      <td>154365.0</td>\n",
       "      <td>4.0</td>\n",
       "      <td>13434.0</td>\n",
       "    </tr>\n",
       "    <tr>\n",
       "      <th>4</th>\n",
       "      <td>Nissan</td>\n",
       "      <td>Blue</td>\n",
       "      <td>181577.0</td>\n",
       "      <td>3.0</td>\n",
       "      <td>14043.0</td>\n",
       "    </tr>\n",
       "  </tbody>\n",
       "</table>\n",
       "</div>"
      ],
      "text/plain": [
       "     Make Colour  Odometer (KM)  Doors    Price\n",
       "0   Honda  White        35431.0    4.0  15323.0\n",
       "1     BMW   Blue       192714.0    5.0  19943.0\n",
       "2   Honda  White        84714.0    4.0  28343.0\n",
       "3  Toyota  White       154365.0    4.0  13434.0\n",
       "4  Nissan   Blue       181577.0    3.0  14043.0"
      ]
     },
     "execution_count": 24,
     "metadata": {},
     "output_type": "execute_result"
    }
   ],
   "source": [
    "car_sales = pd.read_csv('../input/car-sales/car-sales-extended-missing-data.csv')\n",
    "car_sales.head(5)"
   ]
  },
  {
   "cell_type": "code",
   "execution_count": 25,
   "id": "b129a323",
   "metadata": {
    "execution": {
     "iopub.execute_input": "2022-08-04T17:39:53.446635Z",
     "iopub.status.busy": "2022-08-04T17:39:53.446292Z",
     "iopub.status.idle": "2022-08-04T17:39:53.453455Z",
     "shell.execute_reply": "2022-08-04T17:39:53.452389Z"
    },
    "papermill": {
     "duration": 0.019655,
     "end_time": "2022-08-04T17:39:53.455329",
     "exception": false,
     "start_time": "2022-08-04T17:39:53.435674",
     "status": "completed"
    },
    "tags": []
   },
   "outputs": [
    {
     "data": {
      "text/plain": [
       "Make              object\n",
       "Colour            object\n",
       "Odometer (KM)    float64\n",
       "Doors            float64\n",
       "Price            float64\n",
       "dtype: object"
      ]
     },
     "execution_count": 25,
     "metadata": {},
     "output_type": "execute_result"
    }
   ],
   "source": [
    "car_sales.dtypes"
   ]
  },
  {
   "cell_type": "code",
   "execution_count": null,
   "id": "e7e9e1d4",
   "metadata": {
    "papermill": {
     "duration": 0.009756,
     "end_time": "2022-08-04T17:39:53.475397",
     "exception": false,
     "start_time": "2022-08-04T17:39:53.465641",
     "status": "completed"
    },
    "tags": []
   },
   "outputs": [],
   "source": []
  }
 ],
 "metadata": {
  "kernelspec": {
   "display_name": "Python 3",
   "language": "python",
   "name": "python3"
  },
  "language_info": {
   "codemirror_mode": {
    "name": "ipython",
    "version": 3
   },
   "file_extension": ".py",
   "mimetype": "text/x-python",
   "name": "python",
   "nbconvert_exporter": "python",
   "pygments_lexer": "ipython3",
   "version": "3.7.12"
  },
  "papermill": {
   "default_parameters": {},
   "duration": 13.106736,
   "end_time": "2022-08-04T17:39:54.205878",
   "environment_variables": {},
   "exception": null,
   "input_path": "__notebook__.ipynb",
   "output_path": "__notebook__.ipynb",
   "parameters": {},
   "start_time": "2022-08-04T17:39:41.099142",
   "version": "2.3.4"
  }
 },
 "nbformat": 4,
 "nbformat_minor": 5
}

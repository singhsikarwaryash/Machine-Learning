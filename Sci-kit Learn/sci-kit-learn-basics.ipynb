{
 "cells": [
  {
   "cell_type": "markdown",
   "id": "da78447a",
   "metadata": {
    "papermill": {
     "duration": 0.006818,
     "end_time": "2022-08-04T08:00:24.469714",
     "exception": false,
     "start_time": "2022-08-04T08:00:24.462896",
     "status": "completed"
    },
    "tags": []
   },
   "source": [
    "# Introduction to Sci-Kit Learn (sklearn)"
   ]
  },
  {
   "cell_type": "code",
   "execution_count": 1,
   "id": "76c66f86",
   "metadata": {
    "_cell_guid": "b1076dfc-b9ad-4769-8c92-a6c4dae69d19",
    "_uuid": "8f2839f25d086af736a60e9eeb907d3b93b6e0e5",
    "execution": {
     "iopub.execute_input": "2022-08-04T08:00:24.483144Z",
     "iopub.status.busy": "2022-08-04T08:00:24.482677Z",
     "iopub.status.idle": "2022-08-04T08:00:25.651039Z",
     "shell.execute_reply": "2022-08-04T08:00:25.649874Z"
    },
    "papermill": {
     "duration": 1.178651,
     "end_time": "2022-08-04T08:00:25.654109",
     "exception": false,
     "start_time": "2022-08-04T08:00:24.475458",
     "status": "completed"
    },
    "tags": []
   },
   "outputs": [],
   "source": [
    "import numpy as np\n",
    "import pandas as pd\n",
    "import matplotlib.pyplot as plt\n",
    "from sklearn import linear_model"
   ]
  },
  {
   "cell_type": "code",
   "execution_count": 2,
   "id": "1f23b9c6",
   "metadata": {
    "execution": {
     "iopub.execute_input": "2022-08-04T08:00:25.667737Z",
     "iopub.status.busy": "2022-08-04T08:00:25.666644Z",
     "iopub.status.idle": "2022-08-04T08:00:25.691145Z",
     "shell.execute_reply": "2022-08-04T08:00:25.690056Z"
    },
    "papermill": {
     "duration": 0.033869,
     "end_time": "2022-08-04T08:00:25.693726",
     "exception": false,
     "start_time": "2022-08-04T08:00:25.659857",
     "status": "completed"
    },
    "tags": []
   },
   "outputs": [],
   "source": [
    "data=pd.read_csv(r'../input/heart-disease/heart-disease.csv')"
   ]
  },
  {
   "cell_type": "code",
   "execution_count": 3,
   "id": "b40918fd",
   "metadata": {
    "execution": {
     "iopub.execute_input": "2022-08-04T08:00:25.706304Z",
     "iopub.status.busy": "2022-08-04T08:00:25.705870Z",
     "iopub.status.idle": "2022-08-04T08:00:25.738756Z",
     "shell.execute_reply": "2022-08-04T08:00:25.737566Z"
    },
    "papermill": {
     "duration": 0.042343,
     "end_time": "2022-08-04T08:00:25.741411",
     "exception": false,
     "start_time": "2022-08-04T08:00:25.699068",
     "status": "completed"
    },
    "tags": []
   },
   "outputs": [
    {
     "data": {
      "text/html": [
       "<div>\n",
       "<style scoped>\n",
       "    .dataframe tbody tr th:only-of-type {\n",
       "        vertical-align: middle;\n",
       "    }\n",
       "\n",
       "    .dataframe tbody tr th {\n",
       "        vertical-align: top;\n",
       "    }\n",
       "\n",
       "    .dataframe thead th {\n",
       "        text-align: right;\n",
       "    }\n",
       "</style>\n",
       "<table border=\"1\" class=\"dataframe\">\n",
       "  <thead>\n",
       "    <tr style=\"text-align: right;\">\n",
       "      <th></th>\n",
       "      <th>age</th>\n",
       "      <th>sex</th>\n",
       "      <th>cp</th>\n",
       "      <th>trestbps</th>\n",
       "      <th>chol</th>\n",
       "      <th>fbs</th>\n",
       "      <th>restecg</th>\n",
       "      <th>thalach</th>\n",
       "      <th>exang</th>\n",
       "      <th>oldpeak</th>\n",
       "      <th>slope</th>\n",
       "      <th>ca</th>\n",
       "      <th>thal</th>\n",
       "      <th>target</th>\n",
       "    </tr>\n",
       "  </thead>\n",
       "  <tbody>\n",
       "    <tr>\n",
       "      <th>0</th>\n",
       "      <td>63</td>\n",
       "      <td>1</td>\n",
       "      <td>3</td>\n",
       "      <td>145</td>\n",
       "      <td>233</td>\n",
       "      <td>1</td>\n",
       "      <td>0</td>\n",
       "      <td>150</td>\n",
       "      <td>0</td>\n",
       "      <td>2.3</td>\n",
       "      <td>0</td>\n",
       "      <td>0</td>\n",
       "      <td>1</td>\n",
       "      <td>1</td>\n",
       "    </tr>\n",
       "    <tr>\n",
       "      <th>1</th>\n",
       "      <td>37</td>\n",
       "      <td>1</td>\n",
       "      <td>2</td>\n",
       "      <td>130</td>\n",
       "      <td>250</td>\n",
       "      <td>0</td>\n",
       "      <td>1</td>\n",
       "      <td>187</td>\n",
       "      <td>0</td>\n",
       "      <td>3.5</td>\n",
       "      <td>0</td>\n",
       "      <td>0</td>\n",
       "      <td>2</td>\n",
       "      <td>1</td>\n",
       "    </tr>\n",
       "    <tr>\n",
       "      <th>2</th>\n",
       "      <td>41</td>\n",
       "      <td>0</td>\n",
       "      <td>1</td>\n",
       "      <td>130</td>\n",
       "      <td>204</td>\n",
       "      <td>0</td>\n",
       "      <td>0</td>\n",
       "      <td>172</td>\n",
       "      <td>0</td>\n",
       "      <td>1.4</td>\n",
       "      <td>2</td>\n",
       "      <td>0</td>\n",
       "      <td>2</td>\n",
       "      <td>1</td>\n",
       "    </tr>\n",
       "    <tr>\n",
       "      <th>3</th>\n",
       "      <td>56</td>\n",
       "      <td>1</td>\n",
       "      <td>1</td>\n",
       "      <td>120</td>\n",
       "      <td>236</td>\n",
       "      <td>0</td>\n",
       "      <td>1</td>\n",
       "      <td>178</td>\n",
       "      <td>0</td>\n",
       "      <td>0.8</td>\n",
       "      <td>2</td>\n",
       "      <td>0</td>\n",
       "      <td>2</td>\n",
       "      <td>1</td>\n",
       "    </tr>\n",
       "    <tr>\n",
       "      <th>4</th>\n",
       "      <td>57</td>\n",
       "      <td>0</td>\n",
       "      <td>0</td>\n",
       "      <td>120</td>\n",
       "      <td>354</td>\n",
       "      <td>0</td>\n",
       "      <td>1</td>\n",
       "      <td>163</td>\n",
       "      <td>1</td>\n",
       "      <td>0.6</td>\n",
       "      <td>2</td>\n",
       "      <td>0</td>\n",
       "      <td>2</td>\n",
       "      <td>1</td>\n",
       "    </tr>\n",
       "    <tr>\n",
       "      <th>...</th>\n",
       "      <td>...</td>\n",
       "      <td>...</td>\n",
       "      <td>...</td>\n",
       "      <td>...</td>\n",
       "      <td>...</td>\n",
       "      <td>...</td>\n",
       "      <td>...</td>\n",
       "      <td>...</td>\n",
       "      <td>...</td>\n",
       "      <td>...</td>\n",
       "      <td>...</td>\n",
       "      <td>...</td>\n",
       "      <td>...</td>\n",
       "      <td>...</td>\n",
       "    </tr>\n",
       "    <tr>\n",
       "      <th>298</th>\n",
       "      <td>57</td>\n",
       "      <td>0</td>\n",
       "      <td>0</td>\n",
       "      <td>140</td>\n",
       "      <td>241</td>\n",
       "      <td>0</td>\n",
       "      <td>1</td>\n",
       "      <td>123</td>\n",
       "      <td>1</td>\n",
       "      <td>0.2</td>\n",
       "      <td>1</td>\n",
       "      <td>0</td>\n",
       "      <td>3</td>\n",
       "      <td>0</td>\n",
       "    </tr>\n",
       "    <tr>\n",
       "      <th>299</th>\n",
       "      <td>45</td>\n",
       "      <td>1</td>\n",
       "      <td>3</td>\n",
       "      <td>110</td>\n",
       "      <td>264</td>\n",
       "      <td>0</td>\n",
       "      <td>1</td>\n",
       "      <td>132</td>\n",
       "      <td>0</td>\n",
       "      <td>1.2</td>\n",
       "      <td>1</td>\n",
       "      <td>0</td>\n",
       "      <td>3</td>\n",
       "      <td>0</td>\n",
       "    </tr>\n",
       "    <tr>\n",
       "      <th>300</th>\n",
       "      <td>68</td>\n",
       "      <td>1</td>\n",
       "      <td>0</td>\n",
       "      <td>144</td>\n",
       "      <td>193</td>\n",
       "      <td>1</td>\n",
       "      <td>1</td>\n",
       "      <td>141</td>\n",
       "      <td>0</td>\n",
       "      <td>3.4</td>\n",
       "      <td>1</td>\n",
       "      <td>2</td>\n",
       "      <td>3</td>\n",
       "      <td>0</td>\n",
       "    </tr>\n",
       "    <tr>\n",
       "      <th>301</th>\n",
       "      <td>57</td>\n",
       "      <td>1</td>\n",
       "      <td>0</td>\n",
       "      <td>130</td>\n",
       "      <td>131</td>\n",
       "      <td>0</td>\n",
       "      <td>1</td>\n",
       "      <td>115</td>\n",
       "      <td>1</td>\n",
       "      <td>1.2</td>\n",
       "      <td>1</td>\n",
       "      <td>1</td>\n",
       "      <td>3</td>\n",
       "      <td>0</td>\n",
       "    </tr>\n",
       "    <tr>\n",
       "      <th>302</th>\n",
       "      <td>57</td>\n",
       "      <td>0</td>\n",
       "      <td>1</td>\n",
       "      <td>130</td>\n",
       "      <td>236</td>\n",
       "      <td>0</td>\n",
       "      <td>0</td>\n",
       "      <td>174</td>\n",
       "      <td>0</td>\n",
       "      <td>0.0</td>\n",
       "      <td>1</td>\n",
       "      <td>1</td>\n",
       "      <td>2</td>\n",
       "      <td>0</td>\n",
       "    </tr>\n",
       "  </tbody>\n",
       "</table>\n",
       "<p>303 rows × 14 columns</p>\n",
       "</div>"
      ],
      "text/plain": [
       "     age  sex  cp  trestbps  chol  fbs  restecg  thalach  exang  oldpeak  \\\n",
       "0     63    1   3       145   233    1        0      150      0      2.3   \n",
       "1     37    1   2       130   250    0        1      187      0      3.5   \n",
       "2     41    0   1       130   204    0        0      172      0      1.4   \n",
       "3     56    1   1       120   236    0        1      178      0      0.8   \n",
       "4     57    0   0       120   354    0        1      163      1      0.6   \n",
       "..   ...  ...  ..       ...   ...  ...      ...      ...    ...      ...   \n",
       "298   57    0   0       140   241    0        1      123      1      0.2   \n",
       "299   45    1   3       110   264    0        1      132      0      1.2   \n",
       "300   68    1   0       144   193    1        1      141      0      3.4   \n",
       "301   57    1   0       130   131    0        1      115      1      1.2   \n",
       "302   57    0   1       130   236    0        0      174      0      0.0   \n",
       "\n",
       "     slope  ca  thal  target  \n",
       "0        0   0     1       1  \n",
       "1        0   0     2       1  \n",
       "2        2   0     2       1  \n",
       "3        2   0     2       1  \n",
       "4        2   0     2       1  \n",
       "..     ...  ..   ...     ...  \n",
       "298      1   0     3       0  \n",
       "299      1   0     3       0  \n",
       "300      1   2     3       0  \n",
       "301      1   1     3       0  \n",
       "302      1   1     2       0  \n",
       "\n",
       "[303 rows x 14 columns]"
      ]
     },
     "execution_count": 3,
     "metadata": {},
     "output_type": "execute_result"
    }
   ],
   "source": [
    "data"
   ]
  },
  {
   "cell_type": "code",
   "execution_count": 4,
   "id": "1acb4ea0",
   "metadata": {
    "execution": {
     "iopub.execute_input": "2022-08-04T08:00:25.756169Z",
     "iopub.status.busy": "2022-08-04T08:00:25.755553Z",
     "iopub.status.idle": "2022-08-04T08:00:25.765769Z",
     "shell.execute_reply": "2022-08-04T08:00:25.764707Z"
    },
    "papermill": {
     "duration": 0.020046,
     "end_time": "2022-08-04T08:00:25.768101",
     "exception": false,
     "start_time": "2022-08-04T08:00:25.748055",
     "status": "completed"
    },
    "tags": []
   },
   "outputs": [],
   "source": [
    " # Create X (Feature Matrix)\n",
    " X = data.drop(\"target\", axis=1)\n",
    "\n",
    " # Create Y (lables)\n",
    " y = data[\"target\"]"
   ]
  },
  {
   "cell_type": "code",
   "execution_count": 5,
   "id": "d3267621",
   "metadata": {
    "execution": {
     "iopub.execute_input": "2022-08-04T08:00:25.782743Z",
     "iopub.status.busy": "2022-08-04T08:00:25.781550Z",
     "iopub.status.idle": "2022-08-04T08:00:25.931015Z",
     "shell.execute_reply": "2022-08-04T08:00:25.929694Z"
    },
    "papermill": {
     "duration": 0.159759,
     "end_time": "2022-08-04T08:00:25.933977",
     "exception": false,
     "start_time": "2022-08-04T08:00:25.774218",
     "status": "completed"
    },
    "tags": []
   },
   "outputs": [
    {
     "data": {
      "text/plain": [
       "{'bootstrap': True,\n",
       " 'ccp_alpha': 0.0,\n",
       " 'class_weight': None,\n",
       " 'criterion': 'gini',\n",
       " 'max_depth': None,\n",
       " 'max_features': 'auto',\n",
       " 'max_leaf_nodes': None,\n",
       " 'max_samples': None,\n",
       " 'min_impurity_decrease': 0.0,\n",
       " 'min_samples_leaf': 1,\n",
       " 'min_samples_split': 2,\n",
       " 'min_weight_fraction_leaf': 0.0,\n",
       " 'n_estimators': 100,\n",
       " 'n_jobs': None,\n",
       " 'oob_score': False,\n",
       " 'random_state': None,\n",
       " 'verbose': 0,\n",
       " 'warm_start': False}"
      ]
     },
     "execution_count": 5,
     "metadata": {},
     "output_type": "execute_result"
    }
   ],
   "source": [
    "# Choose the right model and Hyperparameters\n",
    "\n",
    "from sklearn.ensemble import RandomForestClassifier\n",
    "clf = RandomForestClassifier(n_estimators=100)\n",
    "\n",
    "# We'll keep the default hyperparameters\n",
    "clf.get_params()"
   ]
  },
  {
   "cell_type": "code",
   "execution_count": 6,
   "id": "3dd3cba6",
   "metadata": {
    "execution": {
     "iopub.execute_input": "2022-08-04T08:00:25.949262Z",
     "iopub.status.busy": "2022-08-04T08:00:25.948482Z",
     "iopub.status.idle": "2022-08-04T08:00:25.954961Z",
     "shell.execute_reply": "2022-08-04T08:00:25.953929Z"
    },
    "papermill": {
     "duration": 0.017403,
     "end_time": "2022-08-04T08:00:25.957789",
     "exception": false,
     "start_time": "2022-08-04T08:00:25.940386",
     "status": "completed"
    },
    "tags": []
   },
   "outputs": [],
   "source": [
    "# Fit the model to the training data\n",
    "\n",
    "from sklearn.model_selection import train_test_split\n",
    "\n",
    "X_train, X_test, y_train, y_test = train_test_split(X,y, test_size=0.2)"
   ]
  },
  {
   "cell_type": "code",
   "execution_count": 7,
   "id": "597f385e",
   "metadata": {
    "execution": {
     "iopub.execute_input": "2022-08-04T08:00:25.971529Z",
     "iopub.status.busy": "2022-08-04T08:00:25.971112Z",
     "iopub.status.idle": "2022-08-04T08:00:26.131808Z",
     "shell.execute_reply": "2022-08-04T08:00:26.130571Z"
    },
    "papermill": {
     "duration": 0.170894,
     "end_time": "2022-08-04T08:00:26.134682",
     "exception": false,
     "start_time": "2022-08-04T08:00:25.963788",
     "status": "completed"
    },
    "tags": []
   },
   "outputs": [],
   "source": [
    "clf.fit(X_train, y_train);"
   ]
  },
  {
   "cell_type": "code",
   "execution_count": 8,
   "id": "7cb25bab",
   "metadata": {
    "execution": {
     "iopub.execute_input": "2022-08-04T08:00:26.148092Z",
     "iopub.status.busy": "2022-08-04T08:00:26.147690Z",
     "iopub.status.idle": "2022-08-04T08:00:26.167777Z",
     "shell.execute_reply": "2022-08-04T08:00:26.166456Z"
    },
    "papermill": {
     "duration": 0.029694,
     "end_time": "2022-08-04T08:00:26.170188",
     "exception": false,
     "start_time": "2022-08-04T08:00:26.140494",
     "status": "completed"
    },
    "tags": []
   },
   "outputs": [
    {
     "data": {
      "text/html": [
       "<div>\n",
       "<style scoped>\n",
       "    .dataframe tbody tr th:only-of-type {\n",
       "        vertical-align: middle;\n",
       "    }\n",
       "\n",
       "    .dataframe tbody tr th {\n",
       "        vertical-align: top;\n",
       "    }\n",
       "\n",
       "    .dataframe thead th {\n",
       "        text-align: right;\n",
       "    }\n",
       "</style>\n",
       "<table border=\"1\" class=\"dataframe\">\n",
       "  <thead>\n",
       "    <tr style=\"text-align: right;\">\n",
       "      <th></th>\n",
       "      <th>age</th>\n",
       "      <th>sex</th>\n",
       "      <th>cp</th>\n",
       "      <th>trestbps</th>\n",
       "      <th>chol</th>\n",
       "      <th>fbs</th>\n",
       "      <th>restecg</th>\n",
       "      <th>thalach</th>\n",
       "      <th>exang</th>\n",
       "      <th>oldpeak</th>\n",
       "      <th>slope</th>\n",
       "      <th>ca</th>\n",
       "      <th>thal</th>\n",
       "    </tr>\n",
       "  </thead>\n",
       "  <tbody>\n",
       "    <tr>\n",
       "      <th>256</th>\n",
       "      <td>58</td>\n",
       "      <td>1</td>\n",
       "      <td>0</td>\n",
       "      <td>128</td>\n",
       "      <td>259</td>\n",
       "      <td>0</td>\n",
       "      <td>0</td>\n",
       "      <td>130</td>\n",
       "      <td>1</td>\n",
       "      <td>3.0</td>\n",
       "      <td>1</td>\n",
       "      <td>2</td>\n",
       "      <td>3</td>\n",
       "    </tr>\n",
       "    <tr>\n",
       "      <th>40</th>\n",
       "      <td>51</td>\n",
       "      <td>0</td>\n",
       "      <td>2</td>\n",
       "      <td>140</td>\n",
       "      <td>308</td>\n",
       "      <td>0</td>\n",
       "      <td>0</td>\n",
       "      <td>142</td>\n",
       "      <td>0</td>\n",
       "      <td>1.5</td>\n",
       "      <td>2</td>\n",
       "      <td>1</td>\n",
       "      <td>2</td>\n",
       "    </tr>\n",
       "    <tr>\n",
       "      <th>177</th>\n",
       "      <td>64</td>\n",
       "      <td>1</td>\n",
       "      <td>2</td>\n",
       "      <td>140</td>\n",
       "      <td>335</td>\n",
       "      <td>0</td>\n",
       "      <td>1</td>\n",
       "      <td>158</td>\n",
       "      <td>0</td>\n",
       "      <td>0.0</td>\n",
       "      <td>2</td>\n",
       "      <td>0</td>\n",
       "      <td>2</td>\n",
       "    </tr>\n",
       "    <tr>\n",
       "      <th>264</th>\n",
       "      <td>54</td>\n",
       "      <td>1</td>\n",
       "      <td>0</td>\n",
       "      <td>110</td>\n",
       "      <td>206</td>\n",
       "      <td>0</td>\n",
       "      <td>0</td>\n",
       "      <td>108</td>\n",
       "      <td>1</td>\n",
       "      <td>0.0</td>\n",
       "      <td>1</td>\n",
       "      <td>1</td>\n",
       "      <td>2</td>\n",
       "    </tr>\n",
       "    <tr>\n",
       "      <th>175</th>\n",
       "      <td>40</td>\n",
       "      <td>1</td>\n",
       "      <td>0</td>\n",
       "      <td>110</td>\n",
       "      <td>167</td>\n",
       "      <td>0</td>\n",
       "      <td>0</td>\n",
       "      <td>114</td>\n",
       "      <td>1</td>\n",
       "      <td>2.0</td>\n",
       "      <td>1</td>\n",
       "      <td>0</td>\n",
       "      <td>3</td>\n",
       "    </tr>\n",
       "    <tr>\n",
       "      <th>...</th>\n",
       "      <td>...</td>\n",
       "      <td>...</td>\n",
       "      <td>...</td>\n",
       "      <td>...</td>\n",
       "      <td>...</td>\n",
       "      <td>...</td>\n",
       "      <td>...</td>\n",
       "      <td>...</td>\n",
       "      <td>...</td>\n",
       "      <td>...</td>\n",
       "      <td>...</td>\n",
       "      <td>...</td>\n",
       "      <td>...</td>\n",
       "    </tr>\n",
       "    <tr>\n",
       "      <th>74</th>\n",
       "      <td>43</td>\n",
       "      <td>0</td>\n",
       "      <td>2</td>\n",
       "      <td>122</td>\n",
       "      <td>213</td>\n",
       "      <td>0</td>\n",
       "      <td>1</td>\n",
       "      <td>165</td>\n",
       "      <td>0</td>\n",
       "      <td>0.2</td>\n",
       "      <td>1</td>\n",
       "      <td>0</td>\n",
       "      <td>2</td>\n",
       "    </tr>\n",
       "    <tr>\n",
       "      <th>52</th>\n",
       "      <td>62</td>\n",
       "      <td>1</td>\n",
       "      <td>2</td>\n",
       "      <td>130</td>\n",
       "      <td>231</td>\n",
       "      <td>0</td>\n",
       "      <td>1</td>\n",
       "      <td>146</td>\n",
       "      <td>0</td>\n",
       "      <td>1.8</td>\n",
       "      <td>1</td>\n",
       "      <td>3</td>\n",
       "      <td>3</td>\n",
       "    </tr>\n",
       "    <tr>\n",
       "      <th>269</th>\n",
       "      <td>56</td>\n",
       "      <td>1</td>\n",
       "      <td>0</td>\n",
       "      <td>130</td>\n",
       "      <td>283</td>\n",
       "      <td>1</td>\n",
       "      <td>0</td>\n",
       "      <td>103</td>\n",
       "      <td>1</td>\n",
       "      <td>1.6</td>\n",
       "      <td>0</td>\n",
       "      <td>0</td>\n",
       "      <td>3</td>\n",
       "    </tr>\n",
       "    <tr>\n",
       "      <th>62</th>\n",
       "      <td>52</td>\n",
       "      <td>1</td>\n",
       "      <td>3</td>\n",
       "      <td>118</td>\n",
       "      <td>186</td>\n",
       "      <td>0</td>\n",
       "      <td>0</td>\n",
       "      <td>190</td>\n",
       "      <td>0</td>\n",
       "      <td>0.0</td>\n",
       "      <td>1</td>\n",
       "      <td>0</td>\n",
       "      <td>1</td>\n",
       "    </tr>\n",
       "    <tr>\n",
       "      <th>131</th>\n",
       "      <td>49</td>\n",
       "      <td>0</td>\n",
       "      <td>1</td>\n",
       "      <td>134</td>\n",
       "      <td>271</td>\n",
       "      <td>0</td>\n",
       "      <td>1</td>\n",
       "      <td>162</td>\n",
       "      <td>0</td>\n",
       "      <td>0.0</td>\n",
       "      <td>1</td>\n",
       "      <td>0</td>\n",
       "      <td>2</td>\n",
       "    </tr>\n",
       "  </tbody>\n",
       "</table>\n",
       "<p>242 rows × 13 columns</p>\n",
       "</div>"
      ],
      "text/plain": [
       "     age  sex  cp  trestbps  chol  fbs  restecg  thalach  exang  oldpeak  \\\n",
       "256   58    1   0       128   259    0        0      130      1      3.0   \n",
       "40    51    0   2       140   308    0        0      142      0      1.5   \n",
       "177   64    1   2       140   335    0        1      158      0      0.0   \n",
       "264   54    1   0       110   206    0        0      108      1      0.0   \n",
       "175   40    1   0       110   167    0        0      114      1      2.0   \n",
       "..   ...  ...  ..       ...   ...  ...      ...      ...    ...      ...   \n",
       "74    43    0   2       122   213    0        1      165      0      0.2   \n",
       "52    62    1   2       130   231    0        1      146      0      1.8   \n",
       "269   56    1   0       130   283    1        0      103      1      1.6   \n",
       "62    52    1   3       118   186    0        0      190      0      0.0   \n",
       "131   49    0   1       134   271    0        1      162      0      0.0   \n",
       "\n",
       "     slope  ca  thal  \n",
       "256      1   2     3  \n",
       "40       2   1     2  \n",
       "177      2   0     2  \n",
       "264      1   1     2  \n",
       "175      1   0     3  \n",
       "..     ...  ..   ...  \n",
       "74       1   0     2  \n",
       "52       1   3     3  \n",
       "269      0   0     3  \n",
       "62       1   0     1  \n",
       "131      1   0     2  \n",
       "\n",
       "[242 rows x 13 columns]"
      ]
     },
     "execution_count": 8,
     "metadata": {},
     "output_type": "execute_result"
    }
   ],
   "source": [
    " X_train"
   ]
  },
  {
   "cell_type": "code",
   "execution_count": 9,
   "id": "59a60e04",
   "metadata": {
    "execution": {
     "iopub.execute_input": "2022-08-04T08:00:26.184432Z",
     "iopub.status.busy": "2022-08-04T08:00:26.184040Z",
     "iopub.status.idle": "2022-08-04T08:00:26.206823Z",
     "shell.execute_reply": "2022-08-04T08:00:26.205630Z"
    },
    "papermill": {
     "duration": 0.032666,
     "end_time": "2022-08-04T08:00:26.209280",
     "exception": false,
     "start_time": "2022-08-04T08:00:26.176614",
     "status": "completed"
    },
    "tags": []
   },
   "outputs": [
    {
     "data": {
      "text/plain": [
       "array([1, 1, 0, 0, 1, 1, 0, 1, 1, 0, 1, 1, 0, 1, 0, 1, 0, 0, 0, 1, 0, 0,\n",
       "       1, 1, 1, 0, 1, 1, 1, 1, 0, 1, 1, 0, 0, 1, 0, 1, 1, 1, 0, 1, 1, 0,\n",
       "       0, 1, 0, 0, 1, 0, 0, 1, 0, 1, 1, 0, 1, 1, 0, 1, 0])"
      ]
     },
     "execution_count": 9,
     "metadata": {},
     "output_type": "execute_result"
    }
   ],
   "source": [
    "y_pred=clf.predict(X_test)\n",
    "y_pred"
   ]
  },
  {
   "cell_type": "code",
   "execution_count": 10,
   "id": "ade9ffa5",
   "metadata": {
    "execution": {
     "iopub.execute_input": "2022-08-04T08:00:26.223526Z",
     "iopub.status.busy": "2022-08-04T08:00:26.223119Z",
     "iopub.status.idle": "2022-08-04T08:00:26.231649Z",
     "shell.execute_reply": "2022-08-04T08:00:26.230505Z"
    },
    "papermill": {
     "duration": 0.018408,
     "end_time": "2022-08-04T08:00:26.234162",
     "exception": false,
     "start_time": "2022-08-04T08:00:26.215754",
     "status": "completed"
    },
    "tags": []
   },
   "outputs": [
    {
     "data": {
      "text/plain": [
       "248    0\n",
       "10     1\n",
       "183    0\n",
       "253    0\n",
       "94     1\n",
       "      ..\n",
       "273    0\n",
       "22     1\n",
       "139    1\n",
       "53     1\n",
       "221    0\n",
       "Name: target, Length: 61, dtype: int64"
      ]
     },
     "execution_count": 10,
     "metadata": {},
     "output_type": "execute_result"
    }
   ],
   "source": [
    "y_test"
   ]
  },
  {
   "cell_type": "code",
   "execution_count": 11,
   "id": "847f2f38",
   "metadata": {
    "execution": {
     "iopub.execute_input": "2022-08-04T08:00:26.249122Z",
     "iopub.status.busy": "2022-08-04T08:00:26.248000Z",
     "iopub.status.idle": "2022-08-04T08:00:26.273569Z",
     "shell.execute_reply": "2022-08-04T08:00:26.272136Z"
    },
    "papermill": {
     "duration": 0.03604,
     "end_time": "2022-08-04T08:00:26.276487",
     "exception": false,
     "start_time": "2022-08-04T08:00:26.240447",
     "status": "completed"
    },
    "tags": []
   },
   "outputs": [
    {
     "data": {
      "text/plain": [
       "1.0"
      ]
     },
     "execution_count": 11,
     "metadata": {},
     "output_type": "execute_result"
    }
   ],
   "source": [
    "# Evaluate the model on the training data and test data\n",
    "\n",
    "clf.score(X_train, y_train)"
   ]
  },
  {
   "cell_type": "code",
   "execution_count": 12,
   "id": "6d1e2f23",
   "metadata": {
    "execution": {
     "iopub.execute_input": "2022-08-04T08:00:26.293321Z",
     "iopub.status.busy": "2022-08-04T08:00:26.291142Z",
     "iopub.status.idle": "2022-08-04T08:00:26.313239Z",
     "shell.execute_reply": "2022-08-04T08:00:26.312014Z"
    },
    "papermill": {
     "duration": 0.032633,
     "end_time": "2022-08-04T08:00:26.316024",
     "exception": false,
     "start_time": "2022-08-04T08:00:26.283391",
     "status": "completed"
    },
    "tags": []
   },
   "outputs": [
    {
     "data": {
      "text/plain": [
       "0.819672131147541"
      ]
     },
     "execution_count": 12,
     "metadata": {},
     "output_type": "execute_result"
    }
   ],
   "source": [
    "clf.score(X_test, y_test)"
   ]
  },
  {
   "cell_type": "code",
   "execution_count": 13,
   "id": "b7dc525a",
   "metadata": {
    "execution": {
     "iopub.execute_input": "2022-08-04T08:00:26.330836Z",
     "iopub.status.busy": "2022-08-04T08:00:26.330419Z",
     "iopub.status.idle": "2022-08-04T08:00:26.341076Z",
     "shell.execute_reply": "2022-08-04T08:00:26.339555Z"
    },
    "papermill": {
     "duration": 0.021895,
     "end_time": "2022-08-04T08:00:26.344412",
     "exception": false,
     "start_time": "2022-08-04T08:00:26.322517",
     "status": "completed"
    },
    "tags": []
   },
   "outputs": [
    {
     "name": "stdout",
     "output_type": "stream",
     "text": [
      "              precision    recall  f1-score   support\n",
      "\n",
      "           0       0.78      0.81      0.79        26\n",
      "           1       0.85      0.83      0.84        35\n",
      "\n",
      "    accuracy                           0.82        61\n",
      "   macro avg       0.82      0.82      0.82        61\n",
      "weighted avg       0.82      0.82      0.82        61\n",
      "\n"
     ]
    }
   ],
   "source": [
    " from sklearn.metrics import classification_report, confusion_matrix, accuracy_score\n",
    "\n",
    " print (classification_report(y_test, y_pred))"
   ]
  },
  {
   "cell_type": "code",
   "execution_count": 14,
   "id": "94dac1c8",
   "metadata": {
    "execution": {
     "iopub.execute_input": "2022-08-04T08:00:26.359811Z",
     "iopub.status.busy": "2022-08-04T08:00:26.359380Z",
     "iopub.status.idle": "2022-08-04T08:00:26.369759Z",
     "shell.execute_reply": "2022-08-04T08:00:26.368620Z"
    },
    "papermill": {
     "duration": 0.020898,
     "end_time": "2022-08-04T08:00:26.372080",
     "exception": false,
     "start_time": "2022-08-04T08:00:26.351182",
     "status": "completed"
    },
    "tags": []
   },
   "outputs": [
    {
     "data": {
      "text/plain": [
       "array([[21,  5],\n",
       "       [ 6, 29]])"
      ]
     },
     "execution_count": 14,
     "metadata": {},
     "output_type": "execute_result"
    }
   ],
   "source": [
    "confusion_matrix(y_test, y_pred)"
   ]
  },
  {
   "cell_type": "code",
   "execution_count": 15,
   "id": "d083b447",
   "metadata": {
    "execution": {
     "iopub.execute_input": "2022-08-04T08:00:26.387057Z",
     "iopub.status.busy": "2022-08-04T08:00:26.386682Z",
     "iopub.status.idle": "2022-08-04T08:00:26.394466Z",
     "shell.execute_reply": "2022-08-04T08:00:26.393295Z"
    },
    "papermill": {
     "duration": 0.017825,
     "end_time": "2022-08-04T08:00:26.396753",
     "exception": false,
     "start_time": "2022-08-04T08:00:26.378928",
     "status": "completed"
    },
    "tags": []
   },
   "outputs": [
    {
     "data": {
      "text/plain": [
       "0.819672131147541"
      ]
     },
     "execution_count": 15,
     "metadata": {},
     "output_type": "execute_result"
    }
   ],
   "source": [
    "accuracy_score(y_test, y_pred)"
   ]
  },
  {
   "cell_type": "code",
   "execution_count": 16,
   "id": "d7148ff4",
   "metadata": {
    "execution": {
     "iopub.execute_input": "2022-08-04T08:00:26.412686Z",
     "iopub.status.busy": "2022-08-04T08:00:26.412257Z",
     "iopub.status.idle": "2022-08-04T08:00:27.523836Z",
     "shell.execute_reply": "2022-08-04T08:00:27.522262Z"
    },
    "papermill": {
     "duration": 1.122199,
     "end_time": "2022-08-04T08:00:27.526447",
     "exception": false,
     "start_time": "2022-08-04T08:00:26.404248",
     "status": "completed"
    },
    "tags": []
   },
   "outputs": [
    {
     "name": "stdout",
     "output_type": "stream",
     "text": [
      "Trying model with 10 estimators\n",
      "Model Accuracy on test set: 85.25%\n",
      "\n",
      "Trying model with 20 estimators\n",
      "Model Accuracy on test set: 83.61%\n",
      "\n",
      "Trying model with 30 estimators\n",
      "Model Accuracy on test set: 88.52%\n",
      "\n",
      "Trying model with 40 estimators\n",
      "Model Accuracy on test set: 83.61%\n",
      "\n",
      "Trying model with 50 estimators\n",
      "Model Accuracy on test set: 81.97%\n",
      "\n",
      "Trying model with 60 estimators\n",
      "Model Accuracy on test set: 85.25%\n",
      "\n",
      "Trying model with 70 estimators\n",
      "Model Accuracy on test set: 83.61%\n",
      "\n",
      "Trying model with 80 estimators\n",
      "Model Accuracy on test set: 81.97%\n",
      "\n",
      "Trying model with 90 estimators\n",
      "Model Accuracy on test set: 81.97%\n",
      "\n",
      "Trying model with 100 estimators\n",
      "Model Accuracy on test set: 81.97%\n",
      "\n",
      "Trying model with 110 estimators\n",
      "Model Accuracy on test set: 80.33%\n",
      "\n"
     ]
    }
   ],
   "source": [
    "# Improve a model\n",
    "# Try different amount of n_estimators\n",
    "\n",
    "np.random.seed(42)\n",
    "for i in range(10, 120, 10):\n",
    "  print(f\"Trying model with {i} estimators\")\n",
    "  clf= RandomForestClassifier(n_estimators=i).fit(X_train, y_train)\n",
    "  print(f\"Model Accuracy on test set: {clf.score(X_test, y_test)*100:.2f}%\")\n",
    "  print(\"\")\n"
   ]
  },
  {
   "cell_type": "code",
   "execution_count": 17,
   "id": "a1000a24",
   "metadata": {
    "execution": {
     "iopub.execute_input": "2022-08-04T08:00:27.543448Z",
     "iopub.status.busy": "2022-08-04T08:00:27.542655Z",
     "iopub.status.idle": "2022-08-04T08:00:27.555350Z",
     "shell.execute_reply": "2022-08-04T08:00:27.554334Z"
    },
    "papermill": {
     "duration": 0.024005,
     "end_time": "2022-08-04T08:00:27.557998",
     "exception": false,
     "start_time": "2022-08-04T08:00:27.533993",
     "status": "completed"
    },
    "tags": []
   },
   "outputs": [],
   "source": [
    "\n",
    "# Save a model and load it\n",
    "import pickle\n",
    "pickle.dump(clf, open(\"random_forest_1.pk1\", \"wb\"))"
   ]
  },
  {
   "cell_type": "code",
   "execution_count": 18,
   "id": "d9f18751",
   "metadata": {
    "execution": {
     "iopub.execute_input": "2022-08-04T08:00:27.574694Z",
     "iopub.status.busy": "2022-08-04T08:00:27.574270Z",
     "iopub.status.idle": "2022-08-04T08:00:27.603497Z",
     "shell.execute_reply": "2022-08-04T08:00:27.602345Z"
    },
    "papermill": {
     "duration": 0.040379,
     "end_time": "2022-08-04T08:00:27.606059",
     "exception": false,
     "start_time": "2022-08-04T08:00:27.565680",
     "status": "completed"
    },
    "tags": []
   },
   "outputs": [
    {
     "data": {
      "text/plain": [
       "0.8032786885245902"
      ]
     },
     "execution_count": 18,
     "metadata": {},
     "output_type": "execute_result"
    }
   ],
   "source": [
    "# Load a model\n",
    "loaded_model = pickle.load(open(\"random_forest_1.pk1\", \"rb\"))\n",
    "loaded_model.score(X_test, y_test)\n"
   ]
  },
  {
   "cell_type": "code",
   "execution_count": null,
   "id": "c13e0bff",
   "metadata": {
    "papermill": {
     "duration": 0.007104,
     "end_time": "2022-08-04T08:00:27.620756",
     "exception": false,
     "start_time": "2022-08-04T08:00:27.613652",
     "status": "completed"
    },
    "tags": []
   },
   "outputs": [],
   "source": []
  }
 ],
 "metadata": {
  "kernelspec": {
   "display_name": "Python 3",
   "language": "python",
   "name": "python3"
  },
  "language_info": {
   "codemirror_mode": {
    "name": "ipython",
    "version": 3
   },
   "file_extension": ".py",
   "mimetype": "text/x-python",
   "name": "python",
   "nbconvert_exporter": "python",
   "pygments_lexer": "ipython3",
   "version": "3.7.12"
  },
  "papermill": {
   "default_parameters": {},
   "duration": 13.352015,
   "end_time": "2022-08-04T08:00:28.351154",
   "environment_variables": {},
   "exception": null,
   "input_path": "__notebook__.ipynb",
   "output_path": "__notebook__.ipynb",
   "parameters": {},
   "start_time": "2022-08-04T08:00:14.999139",
   "version": "2.3.4"
  }
 },
 "nbformat": 4,
 "nbformat_minor": 5
}
